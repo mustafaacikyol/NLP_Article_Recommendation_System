{
 "cells": [
  {
   "cell_type": "code",
   "execution_count": null,
   "metadata": {},
   "outputs": [],
   "source": [
    "import spacy\n",
    "from pymongo import MongoClient"
   ]
  },
  {
   "cell_type": "code",
   "execution_count": null,
   "metadata": {},
   "outputs": [],
   "source": [
    "# Load English tokenizer, tagger, parser, and NER\n",
    "nlp = spacy.load(\"en_core_web_sm\")"
   ]
  },
  {
   "cell_type": "code",
   "execution_count": null,
   "metadata": {},
   "outputs": [],
   "source": [
    "# Increase the max_length limit\n",
    "nlp.max_length = 2500000  # Set it to a value that accommodates your text length"
   ]
  },
  {
   "cell_type": "code",
   "execution_count": null,
   "metadata": {},
   "outputs": [],
   "source": [
    "client = MongoClient()\n",
    "db = client['article_recommendation']\n",
    "article_collection = db['article']\n",
    "\n",
    "# Find the first document in the collection\n",
    "# first_article = article_collection.find_one()\n",
    "# abstract = first_article['abstract']\n",
    "\n",
    "# Find all documents in the collection\n",
    "all_articles = article_collection.find()\n",
    "\n",
    "# List to store all abstracts\n",
    "all_abstracts = []\n",
    "\n",
    "# Iterate over all documents\n",
    "for article in all_articles:\n",
    "    # Check if the document has an abstract field\n",
    "    if 'abstract' in article:\n",
    "        abstract = article['abstract']\n",
    "        all_abstracts.append(abstract)\n",
    "\n",
    "# Concatenate all abstracts into a single string\n",
    "all_abstracts_text = \" \".join(all_abstracts)\n",
    "\n",
    "\n",
    "# Example text\n",
    "# text = \"This is an example sentence. John go to the school.\""
   ]
  },
  {
   "cell_type": "code",
   "execution_count": null,
   "metadata": {},
   "outputs": [],
   "source": [
    "# Process the text\n",
    "doc = nlp(all_abstracts_text)"
   ]
  },
  {
   "cell_type": "markdown",
   "metadata": {},
   "source": [
    "Tokenization:\n",
    "Tokenization is the process of splitting text into individual words or tokens."
   ]
  },
  {
   "cell_type": "code",
   "execution_count": null,
   "metadata": {},
   "outputs": [],
   "source": [
    "# Iterate over tokens\n",
    "for token in doc:\n",
    "    print(token.text)"
   ]
  },
  {
   "cell_type": "markdown",
   "metadata": {},
   "source": [
    "Part-of-speech (POS) Tagging:\n",
    "POS tagging assigns a grammatical label to each token, such as noun, verb, adjective, etc."
   ]
  },
  {
   "cell_type": "code",
   "execution_count": null,
   "metadata": {},
   "outputs": [],
   "source": [
    "# Iterate over tokens with POS tags\n",
    "for token in doc:\n",
    "    print(token.text, token.pos_)\n"
   ]
  },
  {
   "cell_type": "markdown",
   "metadata": {},
   "source": [
    "Named Entity Recognition (NER):\n",
    "NER identifies named entities such as persons, organizations, locations, etc."
   ]
  },
  {
   "cell_type": "code",
   "execution_count": null,
   "metadata": {},
   "outputs": [],
   "source": [
    "# Extract named entities\n",
    "for ent in doc.ents:\n",
    "    print(ent.text, ent.label_)"
   ]
  },
  {
   "cell_type": "markdown",
   "metadata": {},
   "source": [
    "1-Removing Stopwords:\n",
    "Stopwords are common words (e.g., \"the\", \"is\", \"and\") that are often removed during preprocessing."
   ]
  },
  {
   "cell_type": "code",
   "execution_count": null,
   "metadata": {},
   "outputs": [],
   "source": [
    "from spacy.lang.en.stop_words import STOP_WORDS"
   ]
  },
  {
   "cell_type": "code",
   "execution_count": null,
   "metadata": {},
   "outputs": [],
   "source": [
    "# Remove stopwords\n",
    "filtered_tokens = [token.text for token in doc if token.text.lower() not in STOP_WORDS]\n",
    "\n",
    "# Join filtered tokens back into a sentence\n",
    "filtered_text = ' '.join(filtered_tokens)\n",
    "\n",
    "doc = nlp(filtered_text)\n",
    "print(filtered_text)"
   ]
  },
  {
   "cell_type": "code",
   "execution_count": null,
   "metadata": {},
   "outputs": [],
   "source": [
    "# Filter out stopwords\n",
    "# filtered_tokens = [token.text for token in doc if not token.is_stop]\n",
    "# filtered_tokens"
   ]
  },
  {
   "cell_type": "markdown",
   "metadata": {},
   "source": [
    "2-Remove punctuations"
   ]
  },
  {
   "cell_type": "code",
   "execution_count": null,
   "metadata": {},
   "outputs": [],
   "source": [
    "# Filter out tokens that are not punctuation\n",
    "filtered_tokens = [token.text for token in doc if token.is_punct == False]\n",
    "\n",
    "# Join the filtered tokens into a string\n",
    "clean_text = \" \".join(filtered_tokens)\n",
    "doc = nlp(clean_text)\n",
    "print(clean_text)"
   ]
  },
  {
   "cell_type": "markdown",
   "metadata": {},
   "source": [
    "3-Lemmatization:\n",
    "Lemmatization reduces words to their base or root form."
   ]
  },
  {
   "cell_type": "code",
   "execution_count": null,
   "metadata": {},
   "outputs": [],
   "source": [
    "# Iterate over tokens with lemmatized forms\n",
    "for token in doc:\n",
    "    print(token.text, token.lemma_)\n"
   ]
  },
  {
   "cell_type": "code",
   "execution_count": null,
   "metadata": {},
   "outputs": [],
   "source": [
    "# Generate the sentence from lemmatized tokens\n",
    "lemmatized_abstract = \" \".join([token.lemma_ for token in doc])\n",
    "lemmatized_abstract"
   ]
  },
  {
   "cell_type": "code",
   "execution_count": 1,
   "metadata": {},
   "outputs": [],
   "source": [
    "import spacy\n",
    "from spacy.lang.en.stop_words import STOP_WORDS\n",
    "import string\n",
    "from pymongo import MongoClient\n",
    "\n",
    "# Load English tokenizer, tagger, parser, NER, and word vectors\n",
    "nlp = spacy.load(\"en_core_web_sm\")\n",
    "\n",
    "# Function to preprocess the abstract\n",
    "def preprocess_abstract(abstract):\n",
    "    # Tokenize the abstract\n",
    "    tokens = nlp(abstract.lower())\n",
    "    \n",
    "    # Remove stopwords and punctuation, and lemmatize the tokens\n",
    "    processed_tokens = [token.lemma_ for token in tokens if token.text not in STOP_WORDS and token.text not in string.punctuation]\n",
    "    \n",
    "    # Join the processed tokens back into a string\n",
    "    preprocessed_abstract = ' '.join(processed_tokens)\n",
    "    \n",
    "    return preprocessed_abstract\n",
    "\n",
    "# Connect to MongoDB\n",
    "client = MongoClient()  # Update with your MongoDB connection URI\n",
    "db = client[\"article_recommendation\"]  # Update with your database name\n",
    "articles_collection = db[\"article\"]  # Update with your collection name\n",
    "\n",
    "# Retrieve articles from MongoDB\n",
    "articles = articles_collection.find()\n",
    "\n",
    "# Process each article\n",
    "for article in articles:\n",
    "    # Preprocess the abstract\n",
    "    preprocessed_abstract = preprocess_abstract(article[\"abstract\"])\n",
    "    \n",
    "    # Update the article in the collection with the preprocessed abstract\n",
    "    articles_collection.update_one({\"_id\": article[\"_id\"]}, {\"$set\": {\"preprocessed_abstract\": preprocessed_abstract}})\n"
   ]
  }
 ],
 "metadata": {
  "kernelspec": {
   "display_name": "article_recommendation_system",
   "language": "python",
   "name": "python3"
  },
  "language_info": {
   "codemirror_mode": {
    "name": "ipython",
    "version": 3
   },
   "file_extension": ".py",
   "mimetype": "text/x-python",
   "name": "python",
   "nbconvert_exporter": "python",
   "pygments_lexer": "ipython3",
   "version": "3.11.3"
  }
 },
 "nbformat": 4,
 "nbformat_minor": 2
}
